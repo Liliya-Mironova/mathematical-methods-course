{
  "nbformat": 4,
  "nbformat_minor": 0,
  "metadata": {
    "colab": {
      "name": "task4_hw3_Mironova",
      "provenance": [],
      "collapsed_sections": []
    },
    "kernelspec": {
      "name": "python3",
      "display_name": "Python 3"
    }
  },
  "cells": [
    {
      "cell_type": "code",
      "metadata": {
        "id": "o8aGNcqjSIvT",
        "colab_type": "code",
        "outputId": "0553ae54-074d-4889-ecc5-553e0e323079",
        "colab": {
          "base_uri": "https://localhost:8080/",
          "height": 520
        }
      },
      "source": [
        "import numpy as np\n",
        "\n",
        "eps = [0, 10**-15, 10**-14, 10**-10]\n",
        "for i in eps:\n",
        "  A = [[1, i], [0, 1+i]]\n",
        "  eigval, eigvect = np.linalg.eig(A)\n",
        "  print ('Eps: {}'.format(i))\n",
        "  print ('Eigenvals: {}'.format(eigval))\n",
        "  print ('Eigenvectors:\\n{}'.format(eigvect))\n",
        "  print ('Angle (v1, v2): {:.6} degrees\\n'.format(np.arccos(np.dot(eigvect[:,0], eigvect[:,1])) * 180 / np.pi))\n",
        "  \n",
        "print ('So, we see that the eigenvectors for eps != 0 are not almost orthogonal.')"
      ],
      "execution_count": 0,
      "outputs": [
        {
          "output_type": "stream",
          "text": [
            "Eps: 0\n",
            "Eigenvals: [1. 1.]\n",
            "Eigenvectors:\n",
            "[[1. 0.]\n",
            " [0. 1.]]\n",
            "Angle (v1, v2): 90.0 degrees\n",
            "\n",
            "Eps: 1e-15\n",
            "Eigenvals: [1. 1.]\n",
            "Eigenvectors:\n",
            "[[1.         0.66926022]\n",
            " [0.         0.7430281 ]]\n",
            "Angle (v1, v2): 47.99 degrees\n",
            "\n",
            "Eps: 1e-14\n",
            "Eigenvals: [1. 1.]\n",
            "Eigenvectors:\n",
            "[[1.         0.70738943]\n",
            " [0.         0.70682402]]\n",
            "Angle (v1, v2): 44.9771 degrees\n",
            "\n",
            "Eps: 1e-10\n",
            "Eigenvals: [1. 1.]\n",
            "Eigenvectors:\n",
            "[[1.         0.70710675]\n",
            " [0.         0.70710681]]\n",
            "Angle (v1, v2): 45.0 degrees\n",
            "\n",
            "So, we see that the eigenvectors for eps != 0 are not almost orthogonal.\n"
          ],
          "name": "stdout"
        }
      ]
    },
    {
      "cell_type": "code",
      "metadata": {
        "id": "kPzwZUkuSJTQ",
        "colab_type": "code",
        "colab": {}
      },
      "source": [
        ""
      ],
      "execution_count": 0,
      "outputs": []
    }
  ]
}