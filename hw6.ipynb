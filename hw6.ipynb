{
  "nbformat": 4,
  "nbformat_minor": 0,
  "metadata": {
    "kernelspec": {
      "display_name": "Python 3",
      "language": "python",
      "name": "python3"
    },
    "language_info": {
      "codemirror_mode": {
        "name": "ipython",
        "version": 3
      },
      "file_extension": ".py",
      "mimetype": "text/x-python",
      "name": "python",
      "nbconvert_exporter": "python",
      "pygments_lexer": "ipython3",
      "version": "3.7.3"
    },
    "colab": {
      "name": "Mironova_6hw.ipynb",
      "provenance": [],
      "collapsed_sections": [
        "6G8YcF-zCRxS",
        "7VTpO59MCRxU",
        "-JWH4Zu5CRxX",
        "T0zRToqICRxb",
        "X9FZ44q0CRxj",
        "IqaEWpeoCRxr",
        "czUMQ3VoCRxw",
        "8F_sQBuACRxz",
        "uEUoWpD1CRx2"
      ]
    }
  },
  "cells": [
    {
      "cell_type": "code",
      "metadata": {
        "id": "xsVL_fo7CRw9",
        "colab_type": "code",
        "colab": {}
      },
      "source": [
        "import numpy as np\n",
        "import matplotlib.pyplot as plt\n",
        "from scipy.optimize import minimize, rosen, rosen_der\n",
        "import time"
      ],
      "execution_count": 0,
      "outputs": []
    },
    {
      "cell_type": "markdown",
      "metadata": {
        "id": "Mm9U_egaCRxA",
        "colab_type": "text"
      },
      "source": [
        "# Problem 1\n",
        "## a"
      ]
    },
    {
      "cell_type": "code",
      "metadata": {
        "id": "OXb_4atjCRxA",
        "colab_type": "code",
        "colab": {}
      },
      "source": [
        "x = np.arange(1, 25)\n",
        "y = np.array([75, 77, 76, 73, 69, 68, 63, 59, 57, 55, 54, 52, 50, 50, 49, 49, 49, 50, 54, 56, 59, 63, 67, 72])\n",
        "x0 = [1, 1, 1, 80]"
      ],
      "execution_count": 0,
      "outputs": []
    },
    {
      "cell_type": "code",
      "metadata": {
        "id": "Pdjp_sPECRxC",
        "colab_type": "code",
        "outputId": "e1ace650-07fe-4256-b93e-2c6a6c6987b0",
        "colab": {
          "base_uri": "https://localhost:8080/",
          "height": 313
        }
      },
      "source": [
        "f = lambda abc, xk, yk: np.sum((abc[0]*xk**3 + abc[1]*xk**2 + abc[2]*xk + abc[3] - yk)**2)\n",
        "f_plot = lambda abc, xk: abc[0]*xk**3 + abc[1]*xk**2 + abc[2]*xk + abc[3]\n",
        "start_time_1 = time.time()\n",
        "res = minimize(f, x0, args=(x, y), tol=1e-6)\n",
        "end_time_1 = time.time()\n",
        "\n",
        "print ('Polynomial coefficients:', res.x)\n",
        "plt.plot(x, y, 'bo', label='by points')\n",
        "plt.plot(x, f_plot(res.x, x), '-r', label=r'$ax^3+by^2+cz+d$')\n",
        "plt.xlabel(r'$x$')\n",
        "plt.ylabel(r'$y$')\n",
        "plt.title('f(x)');\n",
        "plt.legend(bbox_to_anchor=(1.05, 1), loc=2)\n",
        "plt.grid(True)"
      ],
      "execution_count": 0,
      "outputs": [
        {
          "output_type": "stream",
          "text": [
            "Polynomial coefficients: [ 9.18228205e-03 -1.59401226e-01 -1.75016904e+00  8.02379722e+01]\n"
          ],
          "name": "stdout"
        },
        {
          "output_type": "display_data",
          "data": {
            "image/png": "[encoded data removed]",
            "text/plain": [
              "<Figure size 432x288 with 1 Axes>"
            ]
          },
          "metadata": {
            "tags": []
          }
        }
      ]
    },
    {
      "cell_type": "markdown",
      "metadata": {
        "id": "xL7gZLZKCRxE",
        "colab_type": "text"
      },
      "source": [
        "## b"
      ]
    },
    {
      "cell_type": "code",
      "metadata": {
        "id": "TH8DrrUxCRxE",
        "colab_type": "code",
        "outputId": "9dd82a0c-603d-4d8f-caa1-de1ba5caf0ce",
        "colab": {
          "base_uri": "https://localhost:8080/",
          "height": 87
        }
      },
      "source": [
        "xt = x.reshape(-1, 1)\n",
        "yt = y.reshape(-1, 1)\n",
        "\n",
        "A = np.hstack((xt**3, xt**2, xt, np.ones_like(xt)))\n",
        "At = A.transpose()\n",
        "np.linalg.solve(At@A, At@yt)"
      ],
      "execution_count": 0,
      "outputs": [
        {
          "output_type": "execute_result",
          "data": {
            "text/plain": [
              "array([[ 9.18550049e-03],\n",
              "       [-1.59521638e-01],\n",
              "       [-1.74894429e+00],\n",
              "       [ 8.02351779e+01]])"
            ]
          },
          "metadata": {
            "tags": []
          },
          "execution_count": 4
        }
      ]
    },
    {
      "cell_type": "code",
      "metadata": {
        "id": "XzBPbHvgCRxG",
        "colab_type": "code",
        "outputId": "abed07cb-979d-443f-fc17-911ee59f256d",
        "colab": {
          "base_uri": "https://localhost:8080/",
          "height": 87
        }
      },
      "source": [
        "np.linalg.inv(At@A)@(At@yt)"
      ],
      "execution_count": 0,
      "outputs": [
        {
          "output_type": "execute_result",
          "data": {
            "text/plain": [
              "array([[ 9.18550049e-03],\n",
              "       [-1.59521638e-01],\n",
              "       [-1.74894429e+00],\n",
              "       [ 8.02351779e+01]])"
            ]
          },
          "metadata": {
            "tags": []
          },
          "execution_count": 5
        }
      ]
    },
    {
      "cell_type": "markdown",
      "metadata": {
        "id": "FynIcfo4CRxH",
        "colab_type": "text"
      },
      "source": [
        "## c"
      ]
    },
    {
      "cell_type": "code",
      "metadata": {
        "id": "CmL6Kf6qCRxI",
        "colab_type": "code",
        "outputId": "a54cd7a1-d3a1-496d-8348-02dd4aaf9071",
        "colab": {
          "base_uri": "https://localhost:8080/",
          "height": 87
        }
      },
      "source": [
        "np.linalg.inv(At@A)@(At@yt)"
      ],
      "execution_count": 0,
      "outputs": [
        {
          "output_type": "execute_result",
          "data": {
            "text/plain": [
              "array([[ 9.18550049e-03],\n",
              "       [-1.59521638e-01],\n",
              "       [-1.74894429e+00],\n",
              "       [ 8.02351779e+01]])"
            ]
          },
          "metadata": {
            "tags": []
          },
          "execution_count": 6
        }
      ]
    },
    {
      "cell_type": "code",
      "metadata": {
        "id": "5tgBQjPFCRxL",
        "colab_type": "code",
        "outputId": "c59b9354-f93e-4270-9614-df5471a314df",
        "colab": {
          "base_uri": "https://localhost:8080/",
          "height": 87
        }
      },
      "source": [
        "np.linalg.pinv(A)@yt"
      ],
      "execution_count": 0,
      "outputs": [
        {
          "output_type": "execute_result",
          "data": {
            "text/plain": [
              "array([[ 9.18550049e-03],\n",
              "       [-1.59521638e-01],\n",
              "       [-1.74894429e+00],\n",
              "       [ 8.02351779e+01]])"
            ]
          },
          "metadata": {
            "tags": []
          },
          "execution_count": 7
        }
      ]
    },
    {
      "cell_type": "markdown",
      "metadata": {
        "id": "eHHzrx7vCRxN",
        "colab_type": "text"
      },
      "source": [
        "The solutions are equal"
      ]
    },
    {
      "cell_type": "markdown",
      "metadata": {
        "id": "LeHidcNtCRxN",
        "colab_type": "text"
      },
      "source": [
        "# Problem 2"
      ]
    },
    {
      "cell_type": "markdown",
      "metadata": {
        "id": "2b9VmxxXCRxO",
        "colab_type": "text"
      },
      "source": [
        "## a"
      ]
    },
    {
      "cell_type": "code",
      "metadata": {
        "id": "7sY1k-G_CRxP",
        "colab_type": "code",
        "colab": {}
      },
      "source": [
        "def newton(f, Df, x0, eps, max_iter, verbose=False):\n",
        "    xn = x0\n",
        "    en = []\n",
        "    xnn = []\n",
        "    for n in range(0, max_iter):\n",
        "        en.append(xn)\n",
        "        xnn.append(xn)\n",
        "        fxn = f(xn)\n",
        "        if abs(fxn) < eps:\n",
        "            if verbose:\n",
        "                print ('Root:', xn)\n",
        "                print ('Found solution after', n, 'iterations.')\n",
        "            en = np.array(en)\n",
        "            en = np.abs(en-xn)\n",
        "            return xn, en, xnn\n",
        "        Dfxn = Df(xn)\n",
        "        if Dfxn == 0:\n",
        "            if verbose: print ('Zero derivative. No solution found.')\n",
        "            return None, None, xnn\n",
        "        xn = xn - fxn/Dfxn\n",
        "    if verbose: print ('Exceeded maximum iterations. No solution found.')\n",
        "    return None, None, xnn"
      ],
      "execution_count": 0,
      "outputs": []
    },
    {
      "cell_type": "code",
      "metadata": {
        "id": "3g3aZpkrCRxQ",
        "colab_type": "code",
        "outputId": "cad20eb8-6b71-420a-8e81-17be50f81797",
        "colab": {
          "base_uri": "https://localhost:8080/",
          "height": 329
        }
      },
      "source": [
        "f = lambda x: x**2 - 1\n",
        "df = lambda x: 2*x\n",
        "root, en, xnn = newton(f, df, 100, 1e-10, 1000, True)\n",
        "\n",
        "plt.plot(xnn, '-ob')\n",
        "plt.xlabel(r'$n$')\n",
        "plt.ylabel(r'$x_n$')\n",
        "plt.title(r'$x_n$')\n",
        "plt.grid(True)"
      ],
      "execution_count": 0,
      "outputs": [
        {
          "output_type": "stream",
          "text": [
            "Root: 1.0\n",
            "Found solution after 11 iterations.\n"
          ],
          "name": "stdout"
        },
        {
          "output_type": "display_data",
          "data": {
            "image/png": "[encoded data removed]",
            "text/plain": [
              "<Figure size 432x288 with 1 Axes>"
            ]
          },
          "metadata": {
            "tags": []
          }
        }
      ]
    },
    {
      "cell_type": "markdown",
      "metadata": {
        "id": "6G8YcF-zCRxS",
        "colab_type": "text"
      },
      "source": [
        "## b"
      ]
    },
    {
      "cell_type": "code",
      "metadata": {
        "id": "Q4_tAyA4CRxT",
        "colab_type": "code",
        "outputId": "59221643-304e-4982-ad7f-b5678cae96e7",
        "colab": {
          "base_uri": "https://localhost:8080/"
        }
      },
      "source": [
        "x = np.linspace(-100, 100, 201)\n",
        "plt.plot(x, [newton(f, df, xk, 1e-10, 1000, False)[0] for xk in x]);\n",
        "plt.grid(True)\n",
        "plt.xlabel(r'$x_0$')\n",
        "plt.ylabel(r'$root$')\n",
        "plt.title('Initial conditions');"
      ],
      "execution_count": 0,
      "outputs": [
        {
          "output_type": "display_data",
          "data": {
            "image/png": "[encoded data removed]",
            "text/plain": [
              "<Figure size 432x288 with 1 Axes>"
            ]
          },
          "metadata": {
            "tags": []
          }
        }
      ]
    },
    {
      "cell_type": "markdown",
      "metadata": {
        "id": "7VTpO59MCRxU",
        "colab_type": "text"
      },
      "source": [
        "## c\n",
        "When the starting point of iterations x0 is close enough to the desired minimum, the convergence rate of the Newton method is quadratic."
      ]
    },
    {
      "cell_type": "code",
      "metadata": {
        "id": "lBg-9obwCRxV",
        "colab_type": "code",
        "outputId": "02d45f24-5591-4352-ca9e-f26675c0689b",
        "colab": {
          "base_uri": "https://localhost:8080/"
        }
      },
      "source": [
        "plt.plot(en, '-ob')\n",
        "plt.xlabel(r'$n$')\n",
        "plt.ylabel(r'$\\log{e_n}$')\n",
        "plt.title(r'$e_n = |x_n - 1|$')\n",
        "plt.yscale('log')\n",
        "plt.grid(True)"
      ],
      "execution_count": 0,
      "outputs": [
        {
          "output_type": "display_data",
          "data": {
            "image/png": "[encoded data removed]",
            "text/plain": [
              "<Figure size 432x288 with 1 Axes>"
            ]
          },
          "metadata": {
            "tags": []
          }
        }
      ]
    },
    {
      "cell_type": "markdown",
      "metadata": {
        "id": "x2AL4OnuCRxW",
        "colab_type": "text"
      },
      "source": [
        "# Problem 3"
      ]
    },
    {
      "cell_type": "markdown",
      "metadata": {
        "id": "-JWH4Zu5CRxX",
        "colab_type": "text"
      },
      "source": [
        "## a\n",
        "The iterations does not converge to anything:"
      ]
    },
    {
      "cell_type": "code",
      "metadata": {
        "scrolled": true,
        "id": "ZFUxXyGgCRxX",
        "colab_type": "code",
        "outputId": "f409aee3-c808-48d1-b9be-f2481796902c",
        "colab": {
          "base_uri": "https://localhost:8080/"
        }
      },
      "source": [
        "f = lambda x: x**2 + 1\n",
        "Df = lambda x: 2*x\n",
        "x, en, xnn = newton(f, Df, 100, 1e-8, 10000, True)\n",
        "plt.plot(xnn)\n",
        "plt.xlabel(r'$n$')\n",
        "plt.ylabel(r'$x_n$')\n",
        "plt.title(r'$x_n$')\n",
        "plt.grid(True)"
      ],
      "execution_count": 0,
      "outputs": [
        {
          "output_type": "stream",
          "text": [
            "Exceeded maximum iterations. No solution found.\n"
          ],
          "name": "stdout"
        },
        {
          "output_type": "display_data",
          "data": {
            "image/png": "[encoded data removed]",
            "text/plain": [
              "<Figure size 432x288 with 1 Axes>"
            ]
          },
          "metadata": {
            "tags": []
          }
        }
      ]
    },
    {
      "cell_type": "markdown",
      "metadata": {
        "id": "eSzUWQo0CRxZ",
        "colab_type": "text"
      },
      "source": [
        "Let's try to converge from the points between -1000 and 1000:"
      ]
    },
    {
      "cell_type": "code",
      "metadata": {
        "id": "E8bGV0SSCRxZ",
        "colab_type": "code",
        "outputId": "cc34819c-1097-41ed-aace-f8f2e61dd393",
        "colab": {
          "base_uri": "https://localhost:8080/"
        }
      },
      "source": [
        "found = False\n",
        "\n",
        "for i in np.arange(-1000, 1000):\n",
        "    if newton(f, Df, 2, 1e-8, 1000)[0]:\n",
        "        print ('The root exists.')\n",
        "        found = True\n",
        "        break\n",
        "\n",
        "if not found:\n",
        "    print ('The root does not exist.')"
      ],
      "execution_count": 0,
      "outputs": [
        {
          "output_type": "stream",
          "text": [
            "The root does not exist.\n"
          ],
          "name": "stdout"
        }
      ]
    },
    {
      "cell_type": "markdown",
      "metadata": {
        "id": "T0zRToqICRxb",
        "colab_type": "text"
      },
      "source": [
        "## b"
      ]
    },
    {
      "cell_type": "code",
      "metadata": {
        "id": "JtWoPB6FCRxb",
        "colab_type": "code",
        "outputId": "e71823a9-dd69-48e9-ea43-635ec5ba2f3b",
        "colab": {
          "base_uri": "https://localhost:8080/"
        }
      },
      "source": [
        "x, en, xnn = newton(f, Df, -100, 1e-8, 100, True)\n",
        "plt.plot(xnn)\n",
        "plt.xlabel(r'$n$')\n",
        "plt.ylabel(r'$x_n$')\n",
        "plt.title(r'$x_n$')\n",
        "plt.grid(True)"
      ],
      "execution_count": 0,
      "outputs": [
        {
          "output_type": "stream",
          "text": [
            "Exceeded maximum iterations. No solution found.\n"
          ],
          "name": "stdout"
        },
        {
          "output_type": "display_data",
          "data": {
            "image/png": "[encoded data removed]",
            "text/plain": [
              "<Figure size 432x288 with 1 Axes>"
            ]
          },
          "metadata": {
            "tags": []
          }
        }
      ]
    },
    {
      "cell_type": "code",
      "metadata": {
        "id": "9Fd6a53ZCRxd",
        "colab_type": "code",
        "outputId": "ea20314e-237d-4d8c-e2fb-b26e7acb4298",
        "colab": {
          "base_uri": "https://localhost:8080/"
        }
      },
      "source": [
        "x, en, xnn = newton(f, Df, 50, 1e-8, 100, True)\n",
        "plt.plot(xnn)\n",
        "plt.xlabel(r'$n$')\n",
        "plt.ylabel(r'$x_n$')\n",
        "plt.title(r'$x_n$')\n",
        "plt.grid(True)"
      ],
      "execution_count": 0,
      "outputs": [
        {
          "output_type": "stream",
          "text": [
            "Exceeded maximum iterations. No solution found.\n"
          ],
          "name": "stdout"
        },
        {
          "output_type": "display_data",
          "data": {
            "image/png": "[encoded data removed]",
            "text/plain": [
              "<Figure size 432x288 with 1 Axes>"
            ]
          },
          "metadata": {
            "tags": []
          }
        }
      ]
    },
    {
      "cell_type": "code",
      "metadata": {
        "id": "p-gXXFxaCRxe",
        "colab_type": "code",
        "outputId": "90fe5a69-55f4-447a-94c8-7cdea31ab4ff",
        "colab": {
          "base_uri": "https://localhost:8080/"
        }
      },
      "source": [
        "x, en, xnn = newton(f, Df, 1.0001, 1e-8, 100, True)\n",
        "plt.plot(xnn)\n",
        "plt.xlabel(r'$n$')\n",
        "plt.ylabel(r'$x_n$')\n",
        "plt.title(r'$x_n$')\n",
        "plt.grid(True)"
      ],
      "execution_count": 0,
      "outputs": [
        {
          "output_type": "stream",
          "text": [
            "Exceeded maximum iterations. No solution found.\n"
          ],
          "name": "stdout"
        },
        {
          "output_type": "display_data",
          "data": {
            "image/png": "[encoded data removed]",
            "text/plain": [
              "<Figure size 432x288 with 1 Axes>"
            ]
          },
          "metadata": {
            "tags": []
          }
        }
      ]
    },
    {
      "cell_type": "code",
      "metadata": {
        "id": "GXch7f2sCRxg",
        "colab_type": "code",
        "outputId": "8a3dc353-1f49-41ad-ebf8-822e52ea8365",
        "colab": {
          "base_uri": "https://localhost:8080/"
        }
      },
      "source": [
        "x, en, xnn = newton(f, Df, 2, 1e-8, 100, True)\n",
        "plt.plot(xnn)\n",
        "plt.xlabel(r'$n$')\n",
        "plt.ylabel(r'$x_n$')\n",
        "plt.title(r'$x_n$')\n",
        "plt.grid(True)"
      ],
      "execution_count": 0,
      "outputs": [
        {
          "output_type": "stream",
          "text": [
            "Exceeded maximum iterations. No solution found.\n"
          ],
          "name": "stdout"
        },
        {
          "output_type": "display_data",
          "data": {
            "image/png": "[encoded data removed]",
            "text/plain": [
              "<Figure size 432x288 with 1 Axes>"
            ]
          },
          "metadata": {
            "tags": []
          }
        }
      ]
    },
    {
      "cell_type": "markdown",
      "metadata": {
        "id": "X9FZ44q0CRxj",
        "colab_type": "text"
      },
      "source": [
        "## c\n",
        "If we start the iterations in the complex plane, they will converge to the actual roots"
      ]
    },
    {
      "cell_type": "code",
      "metadata": {
        "scrolled": true,
        "id": "oSxrq6PdCRxk",
        "colab_type": "code",
        "outputId": "4704c3ce-add3-41ba-8ad6-548cbba90e5f",
        "colab": {
          "base_uri": "https://localhost:8080/"
        }
      },
      "source": [
        "f = lambda x: x**2 + 1\n",
        "Df = lambda x: 2*x\n",
        "x, en, xnn = newton(f, Df, 10+523j, 1e-8, 100, True)\n",
        "\n",
        "plt.plot(en, '-ob')\n",
        "plt.xlabel(r'$n$')\n",
        "plt.ylabel(r'$\\log{e_n}$')\n",
        "plt.title(r'$e_n = |x_n - 1|$')\n",
        "plt.yscale('log')\n",
        "plt.grid(True)"
      ],
      "execution_count": 0,
      "outputs": [
        {
          "output_type": "stream",
          "text": [
            "Root: (2.8304201608422602e-14+1.0000000000000415j)\n",
            "Found solution after 13 iterations.\n"
          ],
          "name": "stdout"
        },
        {
          "output_type": "display_data",
          "data": {
            "image/png": "[encoded data removed]",
            "text/plain": [
              "<Figure size 432x288 with 1 Axes>"
            ]
          },
          "metadata": {
            "tags": []
          }
        }
      ]
    },
    {
      "cell_type": "code",
      "metadata": {
        "id": "g6LjNThZCRxn",
        "colab_type": "code",
        "outputId": "e65c3ece-ad7b-4e76-ada6-a26d27d695eb",
        "colab": {
          "base_uri": "https://localhost:8080/"
        }
      },
      "source": [
        "plt.plot([x.real for x in xnn], [x.imag for x in xnn], '-ob')\n",
        "plt.xlabel(r'$\\Re{x_n}$')\n",
        "plt.ylabel(r'$\\Im{x_n}$')\n",
        "plt.title(r'Complex $x_n$')\n",
        "plt.grid(True)"
      ],
      "execution_count": 0,
      "outputs": [
        {
          "output_type": "display_data",
          "data": {
            "image/png": "[encoded data removed]",
            "text/plain": [
              "<Figure size 432x288 with 1 Axes>"
            ]
          },
          "metadata": {
            "tags": []
          }
        }
      ]
    },
    {
      "cell_type": "markdown",
      "metadata": {
        "id": "z-IchiGKCRxp",
        "colab_type": "text"
      },
      "source": [
        "# Problem 4\n",
        "## a"
      ]
    },
    {
      "cell_type": "markdown",
      "metadata": {
        "id": "A_Eq5d6CCRxp",
        "colab_type": "text"
      },
      "source": [
        "\\begin{equation}\n",
        "f = 2x^2 + 2xy + y^2 - x - 2y\\\\\n",
        "f = \\frac{1}{2} u^T Au - b^T u \\\\\n",
        "\\frac{\\partial u^T Au}{\\partial u} = (A+A^T)u\\\\\n",
        "\\frac{\\partial b^Tu}{\\partial u} = b\\\\\n",
        "f' = \\frac{1}{2} (A+A^T) u - b = 0\\\\\n",
        "u = 2(A+A^T)^{-1} b\\\\\n",
        "A = \\begin{pmatrix}\n",
        "4 & 2 \\\\\n",
        "2 & 2\n",
        "\\end{pmatrix}\\\\\n",
        "B = \\begin{pmatrix}\n",
        "1 \\\\\n",
        "2\n",
        "\\end{pmatrix}\\\\\n",
        "u = \\begin{pmatrix}\n",
        "-1/2 \\\\\n",
        "3/2\n",
        "\\end{pmatrix}\\\\\n",
        "f_{min} = f(-\\frac{1}{2}, \\frac{3}{2}) = -\\frac{5}{4}\\\\\n",
        "\\end{equation}"
      ]
    },
    {
      "cell_type": "code",
      "metadata": {
        "scrolled": true,
        "id": "02UkRAkrCRxq",
        "colab_type": "code",
        "outputId": "918f5b39-6157-44c6-9db4-c1d3ede1728a",
        "colab": {
          "base_uri": "https://localhost:8080/",
          "height": 316
        }
      },
      "source": [
        "xlist = np.linspace(-5, 5, 100)\n",
        "ylist = np.linspace(-5, 5, 100)\n",
        "x, y = np.meshgrid(xlist, ylist)\n",
        "f = 2*x**2 + 2*x*y + y**2 - x - 2*y\n",
        "print(\"Min:\", np.min(f))\n",
        "\n",
        "plt.contourf(x, y, f)\n",
        "plt.title(r'$f = 2x^2 + 2xy + y^2 - x - 2y$')\n",
        "plt.xlabel(r'$x$')\n",
        "plt.ylabel(r'$y$')\n",
        "plt.xlim((-5, 5))\n",
        "plt.ylim((-5, 5))\n",
        "plt.show()"
      ],
      "execution_count": 0,
      "outputs": [
        {
          "output_type": "stream",
          "text": [
            "Min: -1.24783185389246\n"
          ],
          "name": "stdout"
        },
        {
          "output_type": "display_data",
          "data": {
            "image/png": "[encoded data removed]",
            "text/plain": [
              "<Figure size 432x288 with 1 Axes>"
            ]
          },
          "metadata": {
            "tags": []
          }
        }
      ]
    },
    {
      "cell_type": "markdown",
      "metadata": {
        "id": "IqaEWpeoCRxr",
        "colab_type": "text"
      },
      "source": [
        "## b"
      ]
    },
    {
      "cell_type": "markdown",
      "metadata": {
        "id": "SoLTGmxQCRxs",
        "colab_type": "text"
      },
      "source": [
        "\\begin{equation}\n",
        "f' = (f'_x, f'_y)\\\\\n",
        "(f'^{(n+1)}_x, f'^{(n+1)}_y)(f'^{(n)}_x, f'^{(n)}_y) = 0\\\\\n",
        "(4x^{n+1} + 2y^{n+1} - 1; 2y^{n+1} + 2x^{n+1} - 2)(4x^n + 2y^n - 1; 2y^n + 2x^n - 2) = 0\\\\\n",
        "(4x^{n+1} + 2y^{n+1} - 1)(4x^n + 2y^n - 1) + (2y^{n+1} + 2x^{n+1} - 2)(2y^n + 2x^n - 2) = 0\\\\\n",
        "x^{n+1} = x^n - \\tau f'_x = x^n - \\tau (4x+2y-1)\\\\\n",
        "y^{n+1} = y^n - \\tau f'_y = y^n - \\tau (2x+2y-2)\\\\\n",
        "(4(x^n - \\tau (4x+2y-1)) + 2(y^n - \\tau (2x+2y-2)) - 1)(4x^n + 2y^n - 1) + (2(y^n - \\tau (2x+2y-2)) + 2\n",
        "(x^n - \\tau (4x+2y-1))- 2)(2y^n + 2x^n - 2) = 0\\\\\n",
        "\\tau = \\frac{1}{4} \\frac{20x^2_n + 24x_n y_n + 8y^2_n - 16x_n - 12y_n + 5}{26x^2_n + 32x_n y_n + 10y^2_n - 22x_n - 14y_n + 5}\n",
        "\\end{equation}"
      ]
    },
    {
      "cell_type": "code",
      "metadata": {
        "id": "SeyxWWqGCRxs",
        "colab_type": "code",
        "colab": {}
      },
      "source": [
        "A = np.array([[4, 2], [2, 2]])\n",
        "b = np.array([1, 2])\n",
        "fu = lambda u: 0.5*u@A@u.T-b@u.T\n",
        "df = lambda u : u@A-b\n",
        "tau = lambda u:  1/4 * (20*u[0]**2 + 24*u[0]*u[1]+8*u[1]**2-16*u[0]-12*u[1]+5)/(26*u[0]**2 + 32*u[0]*u[1]+10*u[1]**2-22*u[0]-14*u[1]+5)\n",
        "eps = 1e-7"
      ],
      "execution_count": 0,
      "outputs": []
    },
    {
      "cell_type": "code",
      "metadata": {
        "id": "EYN2YiybCRxt",
        "colab_type": "code",
        "colab": {}
      },
      "source": [
        "def gradient_descent(x0, y0, iters, eps):\n",
        "    u = np.empty((iters, 2))\n",
        "    u[0] = 5, 5\n",
        "    for t in range(1, iters):\n",
        "        df_t = df(u[t-1])\n",
        "        if np.linalg.norm(df_t) < eps:\n",
        "            break\n",
        "\n",
        "        u[t] = u[t-1] - tau(u[t-1])*df_t\n",
        "\n",
        "    print ('Initial point:', [x0, y0])\n",
        "    print ('Root:', u[t-1])\n",
        "    print ('Min:', fu(u[t-1]))\n",
        "    print ('Found after', t, 'iterations')\n",
        "    return u[t-1], fu(u[t-1]), t"
      ],
      "execution_count": 0,
      "outputs": []
    },
    {
      "cell_type": "code",
      "metadata": {
        "id": "YaGgx7SjCRxv",
        "colab_type": "code",
        "outputId": "95cbf1fb-465b-408a-ac26-33c1128e4cec",
        "colab": {
          "base_uri": "https://localhost:8080/"
        }
      },
      "source": [
        "gradient_descent(5, 5, 100, eps);"
      ],
      "execution_count": 0,
      "outputs": [
        {
          "output_type": "stream",
          "text": [
            "Initial point: [5, 5]\n",
            "Root: [-0.49999999  1.49999998]\n",
            "Min: -1.2499999999999998\n",
            "Found after 5 iterations\n"
          ],
          "name": "stdout"
        }
      ]
    },
    {
      "cell_type": "markdown",
      "metadata": {
        "id": "czUMQ3VoCRxw",
        "colab_type": "text"
      },
      "source": [
        "## c"
      ]
    },
    {
      "cell_type": "code",
      "metadata": {
        "id": "wD8vZTqjCRxw",
        "colab_type": "code",
        "outputId": "65ddde88-75ae-41b2-b90d-69c4b8c72d48",
        "colab": {
          "base_uri": "https://localhost:8080/"
        }
      },
      "source": [
        "iters = 3\n",
        "u = np.empty((iters, 2))\n",
        "df_t = np.empty((iters-1, 2))\n",
        "tau_t = np.empty(iters-1)\n",
        "u[0] = 0, 4\n",
        "\n",
        "for t in range(1, iters):\n",
        "    df_t[t-1] = df(u[t-1])\n",
        "    if np.linalg.norm(df_t) < eps:\n",
        "        break\n",
        "    \n",
        "    tau_t[t-1] = tau(u[t-1])\n",
        "    u[t] = u[t-1] - tau_t[t-1]*df_t[t-1]\n",
        "\n",
        "print ('Came to:', u[t])\n",
        "print ('Val:', fu(u[t]))\n",
        "print ('After', t, 'iterations')"
      ],
      "execution_count": 0,
      "outputs": [
        {
          "output_type": "stream",
          "text": [
            "Came to: [-0.44786759  1.76066204]\n",
            "Val: -1.149441846736897\n",
            "After 2 iterations\n"
          ],
          "name": "stdout"
        }
      ]
    },
    {
      "cell_type": "code",
      "metadata": {
        "id": "yuW2W1zUCRxy",
        "colab_type": "code",
        "outputId": "76b96f1e-65f3-4a49-c7ff-7445042a4058",
        "colab": {
          "base_uri": "https://localhost:8080/"
        }
      },
      "source": [
        "scale = 5\n",
        "plt.plot(u[:, 0], u[:, 1], \"o\")\n",
        "for t in range(iters-1):\n",
        "    plt.arrow(*u[t], *(-df_t[t]*tau_t[t]/scale), head_width=0.05, ec=\"r\", fc=\"w\")\n",
        "\n",
        "plt.contourf(x, y, f, levels=np.sort([fu(u[t]) for t in range(iters)]))\n",
        "plt.title(r'$f = 2x^2 + 2xy + y^2 - x - 2y$')\n",
        "plt.xlabel(r'$x$')\n",
        "plt.ylabel(r'$y$')\n",
        "plt.xlim((-2, 1))\n",
        "plt.ylim((0, 5))\n",
        "plt.show()"
      ],
      "execution_count": 0,
      "outputs": [
        {
          "output_type": "display_data",
          "data": {
            "image/png": "[encoded data removed]",
            "text/plain": [
              "<Figure size 432x288 with 1 Axes>"
            ]
          },
          "metadata": {
            "tags": []
          }
        }
      ]
    },
    {
      "cell_type": "markdown",
      "metadata": {
        "id": "8F_sQBuACRxz",
        "colab_type": "text"
      },
      "source": [
        "## d"
      ]
    },
    {
      "cell_type": "code",
      "metadata": {
        "id": "ZJyecsrUCRxz",
        "colab_type": "code",
        "outputId": "2d3da974-99f7-4ab4-a14d-994c8d76880d",
        "colab": {
          "base_uri": "https://localhost:8080/"
        }
      },
      "source": [
        "gradient_descent(0, 4, 100, 1e-6);"
      ],
      "execution_count": 0,
      "outputs": [
        {
          "output_type": "stream",
          "text": [
            "Initial point: [0, 4]\n",
            "Root: [-0.49999999  1.49999998]\n",
            "Min: -1.2499999999999998\n",
            "Found after 5 iterations\n"
          ],
          "name": "stdout"
        }
      ]
    },
    {
      "cell_type": "markdown",
      "metadata": {
        "id": "dLKsN00RCRx1",
        "colab_type": "text"
      },
      "source": [
        "# Problem 5\n",
        "## a"
      ]
    },
    {
      "cell_type": "code",
      "metadata": {
        "id": "BjASc0PxCRx1",
        "colab_type": "code",
        "outputId": "9b1a2349-85fc-4fb3-86d8-990e23b6e965",
        "colab": {
          "base_uri": "https://localhost:8080/",
          "height": 34
        }
      },
      "source": [
        "from scipy.optimize import linprog\n",
        "\n",
        "c = [1, 1]\n",
        "A = [[-2, -1], [-2, -2], [-1, -2], [3, -1], [-1, 3]]\n",
        "b = [-2, -3, -2, 6, 6]\n",
        "x0_bounds = (None, None)\n",
        "x1_bounds = (None, None)\n",
        "result = linprog(c, A_ub=A, b_ub=b, bounds=[x0_bounds, x1_bounds])\n",
        "print ('Minimum at:', result.x)"
      ],
      "execution_count": 0,
      "outputs": [
        {
          "output_type": "stream",
          "text": [
            "Minimum at: [0.75 0.75]\n"
          ],
          "name": "stdout"
        }
      ]
    },
    {
      "cell_type": "markdown",
      "metadata": {
        "id": "uEUoWpD1CRx2",
        "colab_type": "text"
      },
      "source": [
        "## b"
      ]
    },
    {
      "cell_type": "code",
      "metadata": {
        "scrolled": true,
        "id": "NonJZCSGCRx3",
        "colab_type": "code",
        "outputId": "a21f654f-da8a-4f85-e462-304ce811680a",
        "colab": {
          "base_uri": "https://localhost:8080/"
        }
      },
      "source": [
        "x = np.linspace(-1, 4, 1001)\n",
        "x1, x2 = np.meshgrid(x, x)\n",
        "\n",
        "xx0 = np.ones_like(x1).astype(bool)\n",
        "xx1 = 2*x1 + x2 >= 2\n",
        "xx2 = 2*x1 + 2*x2 >= 3\n",
        "xx3 = x1 + 2*x2 >= 2\n",
        "xx4 = 3*x1 - x2 <= 6\n",
        "xx5 = 3*x2 - x1 <= 6\n",
        "\n",
        "for xx in [xx1, xx2, xx3, xx4, xx5]:\n",
        "    xx0 = np.logical_and(xx0, xx)\n",
        "\n",
        "plt.imshow(xx0[::-1])\n",
        "plt.xlabel(r'$x$')\n",
        "plt.ylabel(r'$y$')\n",
        "plt.title('Conditions');"
      ],
      "execution_count": 0,
      "outputs": [
        {
          "output_type": "display_data",
          "data": {
            "image/png": "[encoded data removed]",
            "text/plain": [
              "<Figure size 432x288 with 1 Axes>"
            ]
          },
          "metadata": {
            "tags": []
          }
        }
      ]
    },
    {
      "cell_type": "code",
      "metadata": {
        "scrolled": true,
        "id": "fBWed_l6CRx4",
        "colab_type": "code",
        "outputId": "01265c64-b855-4694-bf8f-8a85a4393f76",
        "colab": {
          "base_uri": "https://localhost:8080/"
        }
      },
      "source": [
        "f_xx = x1[xx0] + x2[xx0]\n",
        "x_min = np.min(f_xx)\n",
        "x12 = x1+x2\n",
        "xx12 = np.logical_and(xx0, x12==x_min)\n",
        "points = np.where(xx12)\n",
        "plt.imshow(np.logical_and(xx0, (np.abs(x12 - x_min) < 1e-2))[::-1]);\n",
        "plt.xlabel(r'$x$')\n",
        "plt.ylabel(r'$y$');\n",
        "plt.title(r'$Min(x_1+x_2)$ at the conditions');"
      ],
      "execution_count": 0,
      "outputs": [
        {
          "output_type": "display_data",
          "data": {
            "image/png": "[encoded data removed]",
            "text/plain": [
              "<Figure size 432x288 with 1 Axes>"
            ]
          },
          "metadata": {
            "tags": []
          }
        }
      ]
    },
    {
      "cell_type": "code",
      "metadata": {
        "id": "Qku4mbmLCRx5",
        "colab_type": "code",
        "outputId": "8d3287b0-6ec0-4305-9ca4-8750c19acbb7",
        "colab": {
          "base_uri": "https://localhost:8080/"
        }
      },
      "source": [
        "f = lambda x1, x2: x1 + x2\n",
        "x1 = np.linspace(-5, 5, 2000)\n",
        "\n",
        "x21 = 2 - 2*x1\n",
        "x22 = 3/2 - x1\n",
        "x23 = 1 - x1/2\n",
        "x24 = 3*x1 - 6\n",
        "x25 = 2 + x1/3\n",
        "\n",
        "plt.figure(figsize=(5, 5))\n",
        "plt.plot(x1, x21, label=r'$2x_1+x_2\\geq2$')\n",
        "plt.plot(x1, x22, label=r'$2x_1+2x_2\\geq3$')\n",
        "plt.plot(x1, x23, label=r'$x_1+2x_2\\geq2$')\n",
        "plt.plot(x1, x24, label=r'$3x_1-x_2\\leq6$')\n",
        "plt.plot(x1, x25, label=r'$3x_2-x_2\\leq6$')\n",
        "plt.xlim((-1, 4))\n",
        "plt.ylim((-1, 4))\n",
        "plt.xlabel(r'$x$')\n",
        "plt.ylabel(r'$y$')\n",
        "\n",
        "plt.plot(x[points[0]],x[points[1]], \"lime\")\n",
        "\n",
        "# Fill feasible region\n",
        "y5 = x25\n",
        "y6 = np.maximum(x21, x22)\n",
        "y7 = np.maximum(x23, x24)\n",
        "y8 = np.maximum(y6, y7)\n",
        "plt.grid(True)\n",
        "plt.fill_between(x1, y5, y8, where=y5>y8, color='grey', alpha=0.5)\n",
        "plt.legend(bbox_to_anchor=(1.05, 1), loc=2, borderaxespad=0.)\n",
        "plt.title(r'$Min(x_1+x_2)$ at the conditions');"
      ],
      "execution_count": 0,
      "outputs": [
        {
          "output_type": "display_data",
          "data": {
            "image/png": "[encoded data removed]",
            "text/plain": [
              "<Figure size 360x360 with 1 Axes>"
            ]
          },
          "metadata": {
            "tags": []
          }
        }
      ]
    },
    {
      "cell_type": "markdown",
      "metadata": {
        "id": "SFXGFP9MCRx7",
        "colab_type": "text"
      },
      "source": [
        "So, the min of (x1+x2) is a segment:\n",
        "\\begin{equation}\n",
        "\\begin{cases}\n",
        "y = \\frac{3}{2} - 2x,\\\\\n",
        "x \\in [0.5, 1]\\\\\n",
        "y \\in [0.5, 1]\n",
        "\\end{cases}\n",
        "\\end{equation}"
      ]
    },
    {
      "cell_type": "markdown",
      "metadata": {
        "id": "I4DeYif-CRx8",
        "colab_type": "text"
      },
      "source": [
        "# Problem 6\n",
        "## a"
      ]
    },
    {
      "cell_type": "code",
      "metadata": {
        "id": "IbjjGQA9CRx8",
        "colab_type": "code",
        "colab": {}
      },
      "source": [
        "from numpy.linalg import norm"
      ],
      "execution_count": 0,
      "outputs": []
    },
    {
      "cell_type": "code",
      "metadata": {
        "id": "s6ex8ZyvCRx-",
        "colab_type": "code",
        "colab": {}
      },
      "source": [
        "xx = np.arange(1, 25).reshape(1, -1)\n",
        "yy = np.array([75, 77, 76, 73, 69, 68, 63, 59, 57, 55, 54, 52, 50, 50, 49, 49, 49, 50, 54, 56, 59, 63, 67, 72]).reshape(1, -1)\n",
        "x0 = np.array([1, 1, 1, 80]).reshape(-1, 1)\n",
        "f = lambda abcd, xk, yk: norm(abcd[0][:, None]*xk**3 + abcd[1][:, None]*xk**2 + abcd[2][:, None]*xk + abcd[3][:, None] - yk, axis=1)\n",
        "f_x = lambda abcd, xk: abcd[0][:, None]*xk**3 + abcd[1][:, None]*xk**2 + abcd[2][:, None]*xk + abcd[3][:, None]"
      ],
      "execution_count": 0,
      "outputs": []
    },
    {
      "cell_type": "code",
      "metadata": {
        "id": "TVAWjIxMCRx_",
        "colab_type": "code",
        "colab": {}
      },
      "source": [
        "m = 500 # number of generations, try also 2000\n",
        "n = 200 # number of trials, try 200\n",
        "n2 = 40 # number of trials to be kept, this must be n/5, try 40"
      ],
      "execution_count": 0,
      "outputs": []
    },
    {
      "cell_type": "code",
      "metadata": {
        "id": "0FTW_r1SCRyA",
        "colab_type": "code",
        "outputId": "40c62fbf-3292-4240-f69e-c58894f138a3",
        "colab": {
          "base_uri": "https://localhost:8080/",
          "height": 295
        }
      },
      "source": [
        "from IPython.display import clear_output\n",
        "\n",
        "ABCD = x0 + np.random.randn(4, n)\n",
        "\n",
        "start_time_2 = time.time()\n",
        "for jgen in np.arange(m):\n",
        "    E_loss = f(ABCD, xx, yy)\n",
        "    E_indices = np.argsort(E_loss)\n",
        "    ABCD_best = ABCD[:, E_indices[:n2]]\n",
        "    \n",
        "    ABCD_random = np.random.randn(4, 4, n2) / (jgen+1)\n",
        "    ABCD_random += ABCD_best[None, :, :]\n",
        "    ABCD = np.c_[ABCD_best, np.hstack(ABCD_random)]\n",
        "    \n",
        "    yfit = f_x(ABCD[:,:1], xx)\n",
        "end_time_2 = time.time()\n",
        "\n",
        "clear_output()\n",
        "plt.figure(figsize=(12, 4))\n",
        "plt.subplot(1, 2, 1)\n",
        "plt.plot(xx[0], yy[0], 'bo', label=\"True\")\n",
        "plt.plot(xx[0], yfit[0], \"ro\", label=\"Con\")\n",
        "plt.xlabel(r'$x$')\n",
        "plt.ylabel(r'$y$')\n",
        "plt.title('f(x)')\n",
        "plt.grid(True)\n",
        "plt.legend()\n",
        "\n",
        "plt.subplot(1, 2, 2)\n",
        "plt.plot(np.abs(ABCD[0]), \"o\", label='A')\n",
        "plt.plot(np.abs(ABCD[1]), \"o\", label='B')\n",
        "plt.plot(np.abs(ABCD[2]), \"o\", label='C')\n",
        "plt.plot(np.abs(ABCD[3]), \"o\", label='D')\n",
        "plt.xlabel(r'$n$')\n",
        "plt.ylabel(r'$\\log{A, B, C, D}$')\n",
        "plt.title('A, B, C, D')\n",
        "plt.yscale('log')\n",
        "plt.grid(True)\n",
        "plt.legend()\n",
        "plt.show()\n",
        "plt.pause(0.5)"
      ],
      "execution_count": 0,
      "outputs": [
        {
          "output_type": "display_data",
          "data": {
            "image/png": "[encoded data removed]",
            "text/plain": [
              "<Figure size 864x288 with 2 Axes>"
            ]
          },
          "metadata": {
            "tags": []
          }
        }
      ]
    },
    {
      "cell_type": "code",
      "metadata": {
        "id": "mc4Yv5MeD-8L",
        "colab_type": "code",
        "outputId": "7888c6c3-6036-41fd-918c-e47463213c07",
        "colab": {
          "base_uri": "https://localhost:8080/",
          "height": 52
        }
      },
      "source": [
        "print (ABCD[:,0], res.x)\n",
        "norm(res.x - ABCD[:,0])/norm(res.x)"
      ],
      "execution_count": 0,
      "outputs": [
        {
          "output_type": "stream",
          "text": [
            "[ 1.00890043e-02 -1.94094172e-01 -1.38932236e+00  7.94431076e+01] [ 9.18228205e-03 -1.59401226e-01 -1.75016904e+00  8.02379722e+01]\n"
          ],
          "name": "stdout"
        },
        {
          "output_type": "execute_result",
          "data": {
            "text/plain": [
              "0.010885341655398886"
            ]
          },
          "metadata": {
            "tags": []
          },
          "execution_count": 35
        }
      ]
    },
    {
      "cell_type": "markdown",
      "metadata": {
        "id": "Ag1KQFmdCRyC",
        "colab_type": "text"
      },
      "source": [
        "## b"
      ]
    },
    {
      "cell_type": "code",
      "metadata": {
        "id": "B8FHg9dYCRyC",
        "colab_type": "code",
        "outputId": "0437ef67-8f58-419b-a726-bc1873a526e1",
        "colab": {
          "base_uri": "https://localhost:8080/",
          "height": 52
        }
      },
      "source": [
        "print ('scipy.optimize.minimize time:', round(end_time_1 - start_time_1, 5), 's')\n",
        "print ('genetic algorithm time:      ', round(end_time_2 - start_time_2, 5), 's')"
      ],
      "execution_count": 0,
      "outputs": [
        {
          "output_type": "stream",
          "text": [
            "scipy.optimize.minimize time: 0.00406 s\n",
            "genetic algorithm time:       0.1178 s\n"
          ],
          "name": "stdout"
        }
      ]
    },
    {
      "cell_type": "markdown",
      "metadata": {
        "id": "_KmADh4WCcQl",
        "colab_type": "text"
      },
      "source": [
        "So, the scipy optimize algorithm is faster than the genetic one."
      ]
    },
    {
      "cell_type": "markdown",
      "metadata": {
        "id": "Dzcpg0T8CRyE",
        "colab_type": "text"
      },
      "source": [
        ""
      ]
    }
  ]
}