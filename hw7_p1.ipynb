{
  "nbformat": 4,
  "nbformat_minor": 0,
  "metadata": {
    "kernelspec": {
      "display_name": "Python 3",
      "language": "python",
      "name": "python3"
    },
    "language_info": {
      "codemirror_mode": {
        "name": "ipython",
        "version": 3
      },
      "file_extension": ".py",
      "mimetype": "text/x-python",
      "name": "python",
      "nbconvert_exporter": "python",
      "pygments_lexer": "ipython3",
      "version": "3.7.3"
    },
    "colab": {
      "name": "Mironova_hw7_p1.ipynb",
      "provenance": []
    }
  },
  "cells": [
    {
      "cell_type": "markdown",
      "metadata": {
        "id": "mICAd3V5CUzM",
        "colab_type": "text"
      },
      "source": [
        "# Problem 1"
      ]
    },
    {
      "cell_type": "code",
      "metadata": {
        "id": "1FDM0x0nCUzP",
        "colab_type": "code",
        "colab": {}
      },
      "source": [
        "import numpy as np\n",
        "import matplotlib.pyplot as plt\n",
        "\n",
        "n = 100\n",
        "m = 1/100\n",
        "c = 100\n",
        "g = 10\n",
        "l = 1\n",
        "a = l / n"
      ],
      "execution_count": 0,
      "outputs": []
    },
    {
      "cell_type": "markdown",
      "metadata": {
        "id": "LfAzaG5gCUzR",
        "colab_type": "text"
      },
      "source": [
        "## a"
      ]
    },
    {
      "cell_type": "code",
      "metadata": {
        "scrolled": true,
        "id": "ybITsPw2CUzS",
        "colab_type": "code",
        "outputId": "a9e12f67-c6c3-45ff-c1d2-c1033266c194",
        "colab": {
          "base_uri": "https://localhost:8080/",
          "height": 228
        }
      },
      "source": [
        "A = np.eye(n, n-1) + np.int32(-1)*np.eye(n, n-1, -1)\n",
        "C = np.eye(n) * 100\n",
        "f = np.ones((n-1, 1)) * m * g\n",
        "u = np.linalg.solve(A.T@C@A, f)\n",
        "print ('Solution:\\nu^T =\\n', u.T)"
      ],
      "execution_count": 0,
      "outputs": [
        {
          "output_type": "stream",
          "text": [
            "Solution:\n",
            "u^T =\n",
            " [[0.0495 0.098  0.1455 0.192  0.2375 0.282  0.3255 0.368  0.4095 0.45\n",
            "  0.4895 0.528  0.5655 0.602  0.6375 0.672  0.7055 0.738  0.7695 0.8\n",
            "  0.8295 0.858  0.8855 0.912  0.9375 0.962  0.9855 1.008  1.0295 1.05\n",
            "  1.0695 1.088  1.1055 1.122  1.1375 1.152  1.1655 1.178  1.1895 1.2\n",
            "  1.2095 1.218  1.2255 1.232  1.2375 1.242  1.2455 1.248  1.2495 1.25\n",
            "  1.2495 1.248  1.2455 1.242  1.2375 1.232  1.2255 1.218  1.2095 1.2\n",
            "  1.1895 1.178  1.1655 1.152  1.1375 1.122  1.1055 1.088  1.0695 1.05\n",
            "  1.0295 1.008  0.9855 0.962  0.9375 0.912  0.8855 0.858  0.8295 0.8\n",
            "  0.7695 0.738  0.7055 0.672  0.6375 0.602  0.5655 0.528  0.4895 0.45\n",
            "  0.4095 0.368  0.3255 0.282  0.2375 0.192  0.1455 0.098  0.0495]]\n"
          ],
          "name": "stdout"
        }
      ]
    },
    {
      "cell_type": "markdown",
      "metadata": {
        "id": "8mvCN_yYCUzV",
        "colab_type": "text"
      },
      "source": [
        "## b"
      ]
    },
    {
      "cell_type": "code",
      "metadata": {
        "id": "EOF3--o3CUzW",
        "colab_type": "code",
        "outputId": "bd4e144c-8028-4d02-92e0-a540bf537181",
        "colab": {
          "base_uri": "https://localhost:8080/",
          "height": 295
        }
      },
      "source": [
        "x = np.array([a * i for i in np.arange(1, n)])\n",
        "\n",
        "plt.plot(x, u)\n",
        "plt.xlabel(r'$x$')\n",
        "plt.ylabel(r'$u$')\n",
        "plt.title(r'$u$')\n",
        "plt.grid(True);"
      ],
      "execution_count": 0,
      "outputs": [
        {
          "output_type": "display_data",
          "data": {
            "image/png": "[encoded data removed]",
            "text/plain": [
              "<Figure size 432x288 with 1 Axes>"
            ]
          },
          "metadata": {
            "tags": []
          }
        }
      ]
    },
    {
      "cell_type": "markdown",
      "metadata": {
        "id": "VJiY_j5nCUzY",
        "colab_type": "text"
      },
      "source": [
        "## c"
      ]
    },
    {
      "cell_type": "code",
      "metadata": {
        "id": "EtUDIBITCUzZ",
        "colab_type": "code",
        "outputId": "0ba77759-37a6-4485-b4ff-c4c04aaaf675",
        "colab": {
          "base_uri": "https://localhost:8080/",
          "height": 297
        }
      },
      "source": [
        "x = np.array([a * i for i in np.arange(1, n+1)])\n",
        "e = A @ u\n",
        "\n",
        "plt.plot(x, e)\n",
        "plt.xlabel(r'$i$')\n",
        "plt.ylabel(r'$e$')\n",
        "plt.title(r'$e = Au$')\n",
        "plt.grid(True);"
      ],
      "execution_count": 0,
      "outputs": [
        {
          "output_type": "display_data",
          "data": {
            "image/png": "[encoded data removed]",
            "text/plain": [
              "<Figure size 432x288 with 1 Axes>"
            ]
          },
          "metadata": {
            "tags": []
          }
        }
      ]
    },
    {
      "cell_type": "code",
      "metadata": {
        "id": "Sj1KUTMfCUzb",
        "colab_type": "code",
        "outputId": "dad041ec-1196-4671-ddab-0aba84bd7ac3",
        "colab": {
          "base_uri": "https://localhost:8080/",
          "height": 295
        }
      },
      "source": [
        "w = C@A@u\n",
        "\n",
        "plt.plot(x, w)\n",
        "plt.xlabel(r'$x$')\n",
        "plt.ylabel(r'$w$')\n",
        "plt.title(r'$w=Ce=CAu$')\n",
        "plt.grid(True);"
      ],
      "execution_count": 0,
      "outputs": [
        {
          "output_type": "display_data",
          "data": {
            "image/png": "[encoded data removed]",
            "text/plain": [
              "<Figure size 432x288 with 1 Axes>"
            ]
          },
          "metadata": {
            "tags": []
          }
        }
      ]
    },
    {
      "cell_type": "markdown",
      "metadata": {
        "id": "2OMLrk_JCUze",
        "colab_type": "text"
      },
      "source": [
        "## d"
      ]
    },
    {
      "cell_type": "markdown",
      "metadata": {
        "id": "GB99DQKo9u9a",
        "colab_type": "text"
      },
      "source": [
        "Our function is a parabola. Its derivative is a straight, that what we see."
      ]
    },
    {
      "cell_type": "code",
      "metadata": {
        "id": "mfid4eMf90OW",
        "colab_type": "code",
        "colab": {}
      },
      "source": [
        ""
      ],
      "execution_count": 0,
      "outputs": []
    }
  ]
}